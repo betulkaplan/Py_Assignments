{
 "metadata": {
  "language_info": {
   "codemirror_mode": {
    "name": "ipython",
    "version": 3
   },
   "file_extension": ".py",
   "mimetype": "text/x-python",
   "name": "python",
   "nbconvert_exporter": "python",
   "pygments_lexer": "ipython3",
   "version": "3.8.3-final"
  },
  "orig_nbformat": 2,
  "kernelspec": {
   "name": "python3",
   "display_name": "Python 3",
   "language": "python"
  }
 },
 "nbformat": 4,
 "nbformat_minor": 2,
 "cells": [
  {
   "cell_type": "code",
   "execution_count": 10,
   "metadata": {},
   "outputs": [
    {
     "output_type": "stream",
     "name": "stdout",
     "text": [
      "Hello, Betul! The password is : wQ0708aq.\n"
     ]
    }
   ],
   "source": [
    "name = \"BETUL\"\n",
    "password = \"wQ0708aq.\"\n",
    "user = input(\"Please type your name and press enter\")\n",
    "if user.upper()==name:\n",
    "    print(\"Hello, {}! The password is : {}\".format(user.capitalize(), password))\n",
    "else: \n",
    "    print(\"Hello, {}! See you later\".format(user.capitalize()))"
   ]
  },
  {
   "cell_type": "code",
   "execution_count": null,
   "metadata": {},
   "outputs": [],
   "source": []
  },
  {
   "cell_type": "code",
   "execution_count": null,
   "metadata": {},
   "outputs": [],
   "source": []
  }
 ]
}