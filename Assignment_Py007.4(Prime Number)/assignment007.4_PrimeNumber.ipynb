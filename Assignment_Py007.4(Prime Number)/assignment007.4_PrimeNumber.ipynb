{
 "metadata": {
  "language_info": {
   "codemirror_mode": {
    "name": "ipython",
    "version": 3
   },
   "file_extension": ".py",
   "mimetype": "text/x-python",
   "name": "python",
   "nbconvert_exporter": "python",
   "pygments_lexer": "ipython3",
   "version": "3.8.3-final"
  },
  "orig_nbformat": 2,
  "kernelspec": {
   "name": "python3",
   "display_name": "Python 3",
   "language": "python"
  }
 },
 "nbformat": 4,
 "nbformat_minor": 2,
 "cells": [
  {
   "cell_type": "code",
   "execution_count": 1,
   "metadata": {},
   "outputs": [],
   "source": [
    "def prime_check(user_in):\n",
    "  isPrime = 1\n",
    "  for i in range(2, user_in):\n",
    "      if (user_in%i == 0):\n",
    "          isPrime = False\n",
    "          print(f\"{i} is dividing\")\n",
    "      else:\n",
    "          if isPrime != False:\n",
    "            isPrime = True\n",
    "\n",
    "  if isPrime == False: \n",
    "    print(f\"{user_in} in NOT a prime number\")\n",
    "  else: \n",
    "    print(f\"{user_in} in a PRIME number\")\n"
   ]
  },
  {
   "cell_type": "code",
   "execution_count": 3,
   "metadata": {},
   "outputs": [
    {
     "output_type": "stream",
     "name": "stdout",
     "text": [
      "5 is dividing\n25 in NOT a prime number\n"
     ]
    }
   ],
   "source": [
    "number = int(input(\"write a number to check if prime:\"))\n",
    "prime_check(number)"
   ]
  },
  {
   "cell_type": "code",
   "execution_count": null,
   "metadata": {},
   "outputs": [],
   "source": []
  }
 ]
}