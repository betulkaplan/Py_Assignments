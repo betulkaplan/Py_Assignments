{
 "metadata": {
  "language_info": {
   "codemirror_mode": {
    "name": "ipython",
    "version": 3
   },
   "file_extension": ".py",
   "mimetype": "text/x-python",
   "name": "python",
   "nbconvert_exporter": "python",
   "pygments_lexer": "ipython3",
   "version": "3.9.0-final"
  },
  "orig_nbformat": 2,
  "kernelspec": {
   "name": "python3",
   "display_name": "Python 3",
   "language": "python"
  }
 },
 "nbformat": 4,
 "nbformat_minor": 2,
 "cells": [
  {
   "cell_type": "code",
   "execution_count": 3,
   "metadata": {},
   "outputs": [
    {
     "output_type": "stream",
     "name": "stdout",
     "text": [
      "[1, 1, 2, 3, 5, 8, 13, 21, 34, 55]\n"
     ]
    }
   ],
   "source": [
    "limit = int(input(\"please set a limit value for Fibonacci sequence: \"))+1\n",
    "\n",
    "fibo_seq = [1]\n",
    "for i in range(1, limit):\n",
    "  if len(fibo_seq)<2:\n",
    "    if i==fibo_seq[-1]:\n",
    "      fibo_seq.append(i)\n",
    "  else:\n",
    "    if i==(fibo_seq[-1]+fibo_seq[-2]):\n",
    "      fibo_seq.append(i)\n",
    "\n",
    "\n",
    "print(fibo_seq)"
   ]
  },
  {
   "cell_type": "code",
   "execution_count": null,
   "metadata": {},
   "outputs": [],
   "source": []
  }
 ]
}